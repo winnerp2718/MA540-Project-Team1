{
 "cells": [
  {
   "cell_type": "code",
   "execution_count": 1,
   "id": "6bcf2e43",
   "metadata": {},
   "outputs": [],
   "source": [
    "import pandas as pd\n",
    "import numpy as np\n",
    "import seaborn as sns\n",
    "from sklearn.model_selection import train_test_split\n",
    "from sklearn.linear_model import LinearRegression\n",
    "from sklearn import linear_model\n",
    "from sklearn.linear_model import Ridge\n",
    "from sklearn.model_selection import GridSearchCV\n",
    "from sklearn import metrics\n",
    "from sklearn.linear_model import ElasticNet"
   ]
  },
  {
   "cell_type": "code",
   "execution_count": 2,
   "id": "e7fd87cb",
   "metadata": {},
   "outputs": [],
   "source": [
    "df = pd.read_csv('Datamatrix_gpd.csv')\n",
    "df_array = np.asarray(df,dtype='float32')\n",
    "friction = df_array[0:2401,0]\n",
    "psize = df_array[0:2401,1]\n",
    "gsize = df_array[0:2401,2]\n",
    "spreadspe = df_array[0:2401,3]\n",
    "MFR = df_array[0:2401,4]\n",
    "pac = df_array[0:2401,5]\n",
    "frictionsin = np.sin(friction)\n",
    "psizesin = np.sin(psize)\n",
    "gsizesin = np.sin(gsize)\n",
    "spreadspesin = np.sin(spreadspe)\n",
    "frictionsquare = np.square(friction)\n",
    "psizesquare = np.square(psize)\n",
    "gsizesquare = np.square(gsize)\n",
    "spreadspesquare = np.square(spreadspe)\n",
    "frictionlog = np.log(friction)\n",
    "psizelog = np.log(psize)\n",
    "gsizelog = np.log(gsize)\n",
    "spreadspelog = np.log(spreadspe)\n",
    "\n",
    "X = np.atleast_2d([friction,psize,gsize,spreadspe,frictionsin,psizesin,gsizesin,spreadspesin,frictionsquare,psizesquare,gsizesquare,spreadspesquare,frictionlog,psizelog,gsizelog,spreadspelog]).T\n",
    "y = np.atleast_2d([pac]).T\n"
   ]
  },
  {
   "cell_type": "code",
   "execution_count": 3,
   "id": "404635f0",
   "metadata": {},
   "outputs": [],
   "source": [
    "X_train, X_test, y_train, y_test = train_test_split(X, y, test_size = 0.2, random_state = 42)"
   ]
  },
  {
   "cell_type": "code",
   "execution_count": 4,
   "id": "b19e896e",
   "metadata": {},
   "outputs": [],
   "source": [
    "def test(models, X_train, X_test, y_train, y_test, iterations = 100):\n",
    "    results = {}\n",
    "    for i in models:\n",
    "        r2_train = []\n",
    "        r2_test = []\n",
    "        for j in range(iterations):\n",
    "\n",
    "            r2_test.append(metrics.r2_score(y_test,\n",
    "                                            models[i].fit(X_train, \n",
    "                                                         y_train).predict(X_test)))\n",
    "            r2_train.append(metrics.r2_score(y_train, \n",
    "                                             models[i].fit(X_train, \n",
    "                                                          y_train).predict(X_train)))\n",
    "        results[i] = [np.mean(r2_train), np.mean(r2_test)]\n",
    "    return pd.DataFrame(results)"
   ]
  },
  {
   "cell_type": "code",
   "execution_count": 5,
   "id": "a0258bb5",
   "metadata": {},
   "outputs": [],
   "source": [
    "models = {'OLS': linear_model.LinearRegression(),\n",
    "         'Lasso': linear_model.Lasso(),\n",
    "         'Ridge': linear_model.Ridge(),\n",
    "         'Net': linear_model.ElasticNet(),}"
   ]
  },
  {
   "cell_type": "code",
   "execution_count": 6,
   "id": "92fae8a5",
   "metadata": {},
   "outputs": [
    {
     "name": "stderr",
     "output_type": "stream",
     "text": [
      "C:\\Users\\donm2\\anaconda3\\lib\\site-packages\\sklearn\\linear_model\\_coordinate_descent.py:530: ConvergenceWarning: Objective did not converge. You might want to increase the number of iterations. Duality gap: 0.026627693325281143, tolerance: 0.0002987737534567714\n",
      "  model = cd_fast.enet_coordinate_descent(\n",
      "C:\\Users\\donm2\\anaconda3\\lib\\site-packages\\sklearn\\linear_model\\_coordinate_descent.py:530: ConvergenceWarning: Objective did not converge. You might want to increase the number of iterations. Duality gap: 0.010814986191689968, tolerance: 0.00031008091173134744\n",
      "  model = cd_fast.enet_coordinate_descent(\n",
      "C:\\Users\\donm2\\anaconda3\\lib\\site-packages\\sklearn\\linear_model\\_coordinate_descent.py:530: ConvergenceWarning: Objective did not converge. You might want to increase the number of iterations. Duality gap: 0.006077608559280634, tolerance: 0.0003256270429119468\n",
      "  model = cd_fast.enet_coordinate_descent(\n"
     ]
    }
   ],
   "source": [
    "lasso_params = {'alpha':[0.02, 0.024, 0.025, 0.026, 0.03,.05,.1,.25,.5,1]}\n",
    "ridge_params = {'alpha':[1,10,50,100,200, 230, 250,265, 270, 275, 290, 300, 500]}\n",
    "net_params = {'alpha':[1e-5, 1e-4, 1e-3, 1e-2, 1e-1, 1.0, 10.0, 100.0]}\n",
    "\n",
    "\n",
    "models2 = {'OLS': linear_model.LinearRegression(),\n",
    "           'Lasso': GridSearchCV(linear_model.Lasso(), \n",
    "                               param_grid=lasso_params).fit(X, y).best_estimator_,\n",
    "           'Ridge': GridSearchCV(linear_model.Ridge(), \n",
    "                               param_grid=ridge_params).fit(X, y).best_estimator_,\n",
    "           'Net': GridSearchCV(linear_model.ElasticNet(), \n",
    "                               param_grid=net_params).fit(X, y).best_estimator_,}"
   ]
  },
  {
   "cell_type": "code",
   "execution_count": 7,
   "id": "1e5c8d1b",
   "metadata": {
    "scrolled": true
   },
   "outputs": [
    {
     "data": {
      "text/html": [
       "<div>\n",
       "<style scoped>\n",
       "    .dataframe tbody tr th:only-of-type {\n",
       "        vertical-align: middle;\n",
       "    }\n",
       "\n",
       "    .dataframe tbody tr th {\n",
       "        vertical-align: top;\n",
       "    }\n",
       "\n",
       "    .dataframe thead th {\n",
       "        text-align: right;\n",
       "    }\n",
       "</style>\n",
       "<table border=\"1\" class=\"dataframe\">\n",
       "  <thead>\n",
       "    <tr style=\"text-align: right;\">\n",
       "      <th></th>\n",
       "      <th>OLS</th>\n",
       "      <th>Lasso</th>\n",
       "      <th>Ridge</th>\n",
       "      <th>Net</th>\n",
       "    </tr>\n",
       "  </thead>\n",
       "  <tbody>\n",
       "    <tr>\n",
       "      <th>0</th>\n",
       "      <td>0.660509</td>\n",
       "      <td>0.000000</td>\n",
       "      <td>0.659569</td>\n",
       "      <td>0.000000</td>\n",
       "    </tr>\n",
       "    <tr>\n",
       "      <th>1</th>\n",
       "      <td>0.633793</td>\n",
       "      <td>-0.001071</td>\n",
       "      <td>0.634894</td>\n",
       "      <td>-0.001071</td>\n",
       "    </tr>\n",
       "  </tbody>\n",
       "</table>\n",
       "</div>"
      ],
      "text/plain": [
       "        OLS     Lasso     Ridge       Net\n",
       "0  0.660509  0.000000  0.659569  0.000000\n",
       "1  0.633793 -0.001071  0.634894 -0.001071"
      ]
     },
     "execution_count": 7,
     "metadata": {},
     "output_type": "execute_result"
    }
   ],
   "source": [
    "test(models, X_train, X_test, y_train, y_test)"
   ]
  },
  {
   "cell_type": "code",
   "execution_count": 8,
   "id": "8f05ab3a",
   "metadata": {
    "scrolled": true
   },
   "outputs": [
    {
     "data": {
      "text/html": [
       "<div>\n",
       "<style scoped>\n",
       "    .dataframe tbody tr th:only-of-type {\n",
       "        vertical-align: middle;\n",
       "    }\n",
       "\n",
       "    .dataframe tbody tr th {\n",
       "        vertical-align: top;\n",
       "    }\n",
       "\n",
       "    .dataframe thead th {\n",
       "        text-align: right;\n",
       "    }\n",
       "</style>\n",
       "<table border=\"1\" class=\"dataframe\">\n",
       "  <thead>\n",
       "    <tr style=\"text-align: right;\">\n",
       "      <th></th>\n",
       "      <th>OLS</th>\n",
       "      <th>Lasso</th>\n",
       "      <th>Ridge</th>\n",
       "      <th>Net</th>\n",
       "    </tr>\n",
       "  </thead>\n",
       "  <tbody>\n",
       "    <tr>\n",
       "      <th>0</th>\n",
       "      <td>0.660509</td>\n",
       "      <td>0.595867</td>\n",
       "      <td>0.659569</td>\n",
       "      <td>0.659510</td>\n",
       "    </tr>\n",
       "    <tr>\n",
       "      <th>1</th>\n",
       "      <td>0.633793</td>\n",
       "      <td>0.561406</td>\n",
       "      <td>0.634894</td>\n",
       "      <td>0.634779</td>\n",
       "    </tr>\n",
       "  </tbody>\n",
       "</table>\n",
       "</div>"
      ],
      "text/plain": [
       "        OLS     Lasso     Ridge       Net\n",
       "0  0.660509  0.595867  0.659569  0.659510\n",
       "1  0.633793  0.561406  0.634894  0.634779"
      ]
     },
     "execution_count": 8,
     "metadata": {},
     "output_type": "execute_result"
    }
   ],
   "source": [
    "test(models2, X_train, X_test, y_train, y_test)"
   ]
  },
  {
   "cell_type": "code",
   "execution_count": null,
   "id": "c464dd7a",
   "metadata": {},
   "outputs": [],
   "source": []
  }
 ],
 "metadata": {
  "kernelspec": {
   "display_name": "Python 3 (ipykernel)",
   "language": "python",
   "name": "python3"
  },
  "language_info": {
   "codemirror_mode": {
    "name": "ipython",
    "version": 3
   },
   "file_extension": ".py",
   "mimetype": "text/x-python",
   "name": "python",
   "nbconvert_exporter": "python",
   "pygments_lexer": "ipython3",
   "version": "3.9.7"
  }
 },
 "nbformat": 4,
 "nbformat_minor": 5
}
